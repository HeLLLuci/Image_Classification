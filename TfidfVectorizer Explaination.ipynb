{
 "cells": [
  {
   "cell_type": "markdown",
   "id": "406d398b",
   "metadata": {},
   "source": [
    "# TfidfVectorizer \n",
    "\n",
    "We convert a collection of raw documents to a matrix of TF-IDF features.\n",
    "\n",
    "TF-IDF where TF means Term Frequency, and IDF means Inverse Documnets Frequency."
   ]
  },
  {
   "cell_type": "code",
   "execution_count": 3,
   "id": "3100427b",
   "metadata": {},
   "outputs": [],
   "source": [
    "from sklearn.feature_extraction.text import TfidfVectorizer\n",
    "text = ['Hello I am Prasanna here !, I love Machine Learning', 'A Data Science Enthusiast also.']"
   ]
  },
  {
   "cell_type": "code",
   "execution_count": 4,
   "id": "264a99f3",
   "metadata": {},
   "outputs": [],
   "source": [
    "vect = TfidfVectorizer()"
   ]
  },
  {
   "cell_type": "code",
   "execution_count": 5,
   "id": "574269d8",
   "metadata": {},
   "outputs": [
    {
     "data": {
      "text/plain": [
       "TfidfVectorizer()"
      ]
     },
     "execution_count": 5,
     "metadata": {},
     "output_type": "execute_result"
    }
   ],
   "source": [
    "vect.fit(text)"
   ]
  },
  {
   "cell_type": "code",
   "execution_count": 6,
   "id": "d9a30d79",
   "metadata": {},
   "outputs": [
    {
     "name": "stdout",
     "output_type": "stream",
     "text": [
      "[1.40546511 1.40546511 1.40546511 1.40546511 1.40546511 1.40546511\n",
      " 1.40546511 1.40546511 1.40546511 1.40546511 1.40546511]\n"
     ]
    }
   ],
   "source": [
    "# TF will count the frequency of word in each document and IDF\n",
    "print(vect.idf_)"
   ]
  },
  {
   "cell_type": "code",
   "execution_count": 7,
   "id": "5483342f",
   "metadata": {},
   "outputs": [
    {
     "name": "stdout",
     "output_type": "stream",
     "text": [
      "{'hello': 4, 'am': 1, 'prasanna': 9, 'here': 5, 'love': 7, 'machine': 8, 'learning': 6, 'data': 2, 'science': 10, 'enthusiast': 3, 'also': 0}\n"
     ]
    }
   ],
   "source": [
    "print(vect.vocabulary_)"
   ]
  },
  {
   "cell_type": "code",
   "execution_count": 8,
   "id": "15a3fa2d",
   "metadata": {},
   "outputs": [
    {
     "data": {
      "text/plain": [
       "'Hello I am Prasanna here !, I love Machine Learning'"
      ]
     },
     "execution_count": 8,
     "metadata": {},
     "output_type": "execute_result"
    }
   ],
   "source": [
    "example = text[0]\n",
    "example"
   ]
  },
  {
   "cell_type": "markdown",
   "id": "72b7e1e9",
   "metadata": {},
   "source": [
    "A words which is present in all the Data, it will have low IDF value. "
   ]
  },
  {
   "cell_type": "code",
   "execution_count": 9,
   "id": "f73a4f3c",
   "metadata": {},
   "outputs": [
    {
     "name": "stdout",
     "output_type": "stream",
     "text": [
      "[[0.         0.37796447 0.         0.         0.37796447 0.37796447\n",
      "  0.37796447 0.37796447 0.37796447 0.37796447 0.        ]]\n"
     ]
    }
   ],
   "source": [
    "example = vect.transform([example])\n",
    "print(example.toarray())"
   ]
  },
  {
   "cell_type": "markdown",
   "id": "d7aa033b",
   "metadata": {},
   "source": [
    "In this Fake News Detection, we are going to use PassiveAggressive Classifier.  "
   ]
  },
  {
   "cell_type": "markdown",
   "id": "35c34604",
   "metadata": {},
   "source": [
    "# PassiveAggressive Classifier "
   ]
  },
  {
   "cell_type": "markdown",
   "id": "7d120db1",
   "metadata": {},
   "source": [
    "Passive Aggressive Classifier belongs to the category of online learning algorithms in machine learning. It works by responding as passive for correct classifications and responding as aggressive for any miscalculation. In online machine learning algorithms, the input data comes in sequential order and the machine learning model is updated step-by-step, as opposed to batch learning, where the entire training dataset is used at once. This is very useful in situations where there is a huge amount of data and it is computationally infeasible to train the entire dataset because of the sheer size of the data. We can simply say that an online-learning algorithm will get a training example, update the classifier, and then throw away the example."
   ]
  }
 ],
 "metadata": {
  "kernelspec": {
   "display_name": "Python 3",
   "language": "python",
   "name": "python3"
  },
  "language_info": {
   "codemirror_mode": {
    "name": "ipython",
    "version": 3
   },
   "file_extension": ".py",
   "mimetype": "text/x-python",
   "name": "python",
   "nbconvert_exporter": "python",
   "pygments_lexer": "ipython3",
   "version": "3.8.8"
  }
 },
 "nbformat": 4,
 "nbformat_minor": 5
}
